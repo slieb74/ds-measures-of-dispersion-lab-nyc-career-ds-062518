{
 "cells": [
  {
   "cell_type": "markdown",
   "metadata": {},
   "source": [
    "# Standard Deviation Lab\n",
    "\n",
    "## Problem Description\n",
    "\n",
    "In this lab, we'll learn to calculate standard deviation and variance, and gain intuition for what it means and how it can be useful.\n",
    "\n",
    "\n",
    "## Objective\n",
    "* Calculate Standard Deviation of a sample or population\n",
    "* Calculate the Variance of a sample or population\n",
    "* Explore the relationship between Standard Deviation and Variance\n",
    "\n",
    "\n",
    "### Measures of Dispersion\n",
    "\n",
    "In previous labs, we learned about _Measures of Center_ such as **_mean_** and **_median_**.  These metrics help give us a general understanding of where the values lie in the range of our data. However, they don't tell us the whole picture, and can often be misleading.  To truly understand our data, we also need _Measures of Dispersion_--namely, **_Standard Deviation_** and **_Variance_**.  These measures tell us how tightly or loosely clustered around the center our data is, and generally act as a measure of how \"noisy\" our dataset is or isn't.\n",
    "\n",
    "In this lab, we'll manually calculate standard deviation and variance and explore the relationship between them, as well as their relationship with other summary statistics such as the mean. \n",
    "\n",
    "### Calculating Variance\n",
    "\n",
    "In the cell below, write a function that takes an array of numbers as input and returns the Variance of the sample as output. \n",
    "\n",
    "Recall that the formula for calculating variance is:\n",
    "\n",
    "<center><img src='variance-formula.jpg'></center>\n",
    "\n",
    "Where:\n",
    "\n",
    "$\\sigma^2 = Variance$\n",
    "\n",
    "$N = Size\\ of\\ Sample$\n",
    "\n",
    "$\\bar{x} = Sample\\ Mean$"
   ]
  },
  {
   "cell_type": "code",
   "execution_count": 9,
   "metadata": {},
   "outputs": [
    {
     "data": {
      "text/plain": [
       "2.0"
      ]
     },
     "execution_count": 9,
     "metadata": {},
     "output_type": "execute_result"
    }
   ],
   "source": [
    "import numpy as np\n",
    "sample = np.array([1,2,3,4,5])\n",
    "def variance(sample):\n",
    "    mean = np.mean(sample)\n",
    "    var = [(x-mean)**2 for x in sample]\n",
    "    return sum(var)/len(sample)\n",
    "\n",
    "variance(sample)"
   ]
  },
  {
   "cell_type": "markdown",
   "metadata": {},
   "source": [
    "### Calculating Standard Deviation\n",
    "\n",
    "In the cell below, write a function that takes an array of numbers as input and returns the standard deviation of that sample as output.  \n",
    "\n",
    "Recall that the formula for Standard Deviation is:\n",
    "\n",
    "<center><img src='standard-deviation-formula.gif'></center>\n",
    "\n",
    "Where:\n",
    "\n",
    "$\\sigma = Standard\\ Deviation$\n",
    "\n",
    "$\\mu = Sample\\ Mean$\n",
    "\n",
    "$N = Size\\ of\\ Sample$\n",
    "\n",
    "**_Hint_**: How are the these formulas related? Can knowing one help you calculate the other?\n",
    "\n",
    "For a refresher on how to calculate the standard deviation, take a look at this [tutorial](https://www.mathsisfun.com/data/standard-deviation-formulas.html). For the function below, only use `numpy` to calculate square roots as needed. Avoid using the library's `std` function to calculate standard deviation at this step--calculate everything as needed using only basic python.  "
   ]
  },
  {
   "cell_type": "code",
   "execution_count": 12,
   "metadata": {},
   "outputs": [
    {
     "data": {
      "text/plain": [
       "1.4142135623730951"
      ]
     },
     "execution_count": 12,
     "metadata": {},
     "output_type": "execute_result"
    }
   ],
   "source": [
    "def std_dev(sample):\n",
    "    return np.sqrt(variance(sample))\n",
    "\n",
    "std_dev(sample)"
   ]
  },
  {
   "cell_type": "markdown",
   "metadata": {},
   "source": [
    "### Case Study: Life Expectancy\n",
    "\n",
    "People often use the Mean as a summary statistic to encapsulate all relevant information about a topic.  However, the mean is just a statistic--it deserves no special relevance, and can be misleading in many cases.  An example where this can be misleading is life expectancy in the past.  \n",
    "\n",
    "Up until the 18th century, the mean life expectancy in most countries was between 30 and 40.  However, the number of people that actually died between the ages of 30 and 40 was actually quite low.  This average person that survived past childhood could expect to live well into the 50s, 60s, or even 70s.  Why, then, is the average life expectancy around 35?\n",
    "\n",
    "In the cells below, read in the data stored in `ages.csv`.  Calculate the mean and standard deviation.  Then, use `matplotlib` to create a histogram of the data with 8 bins.  \n",
    "\n",
    "When examining the data, consider the following questions:\n",
    "\n",
    "1.  Why did so few people actually die at the mean life expectancy age? Is the mean life expectancy a good metric or not? Why?\n",
    "1.  What does a high standard deviation tell us about the mean?  \n",
    "\n",
    "(Author's Note: Although the ranges in this case study are generally true to historical record, the data in `ages.csv` was made up for this problem.)"
   ]
  },
  {
   "cell_type": "code",
   "execution_count": 44,
   "metadata": {},
   "outputs": [
    {
     "name": "stdout",
     "output_type": "stream",
     "text": [
      "Mean Life Expectancy: 38.6\n",
      "Standard Deviation: 27.072125886232136\n"
     ]
    }
   ],
   "source": [
    "import pandas as pd\n",
    "\n",
    "# read the stored data 'ages.csv'\n",
    "ages = pd.read_csv('ages.csv', names=['Age'])\n",
    "\n",
    "#calculate the mean and the variance and print\n",
    "mean = np.mean(ages['Age'])\n",
    "std = std_dev(ages['Age'])\n",
    "print(\"Mean Life Expectancy: {}\".format(mean))\n",
    "print(\"Standard Deviation: {}\".format(std))"
   ]
  },
  {
   "cell_type": "code",
   "execution_count": 47,
   "metadata": {},
   "outputs": [
    {
     "data": {
      "text/plain": [
       "array([[<matplotlib.axes._subplots.AxesSubplot object at 0x11cdb2588>]],\n",
       "      dtype=object)"
      ]
     },
     "execution_count": 47,
     "metadata": {},
     "output_type": "execute_result"
    },
    {
     "data": {
      "image/png": "[encoded data removed]",
      "text/plain": [
       "<Figure size 432x288 with 1 Axes>"
      ]
     },
     "metadata": {},
     "output_type": "display_data"
    }
   ],
   "source": [
    "import matplotlib.pyplot as plt\n",
    "%matplotlib inline\n",
    "# Plot a histogram of the data in ages.csv with 8 bins.  Bonus points for labeling and styling your graph!\n",
    "\n",
    "ages.hist(bins=8, color='red', label='test')"
   ]
  },
  {
   "cell_type": "markdown",
   "metadata": {},
   "source": [
    "### Conclusion\n",
    "\n",
    "In this lab, we learned:\n",
    "* How to calculate the variance of a sample\n",
    "* How to calculate the standard deviation of a sample\n",
    "* The relationship between standard deviation and variance\n",
    "* How we can use measures of dispersion to inform our  understanding of measures of center"
   ]
  }
 ],
 "metadata": {
  "kernelspec": {
   "display_name": "Python 3",
   "language": "python",
   "name": "python3"
  },
  "language_info": {
   "codemirror_mode": {
    "name": "ipython",
    "version": 3
   },
   "file_extension": ".py",
   "mimetype": "text/x-python",
   "name": "python",
   "nbconvert_exporter": "python",
   "pygments_lexer": "ipython3",
   "version": "3.6.5"
  }
 },
 "nbformat": 4,
 "nbformat_minor": 2
}
